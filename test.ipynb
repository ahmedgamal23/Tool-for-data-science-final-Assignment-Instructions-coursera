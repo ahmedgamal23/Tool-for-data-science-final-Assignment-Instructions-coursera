{
  "nbformat": 4,
  "nbformat_minor": 0,
  "metadata": {
    "colab": {
      "provenance": [],
      "authorship_tag": "ABX9TyMmgWYD9IZVkPssUFACc8De",
      "include_colab_link": true
    },
    "kernelspec": {
      "name": "python3",
      "display_name": "Python 3"
    },
    "language_info": {
      "name": "python"
    }
  },
  "cells": [
    {
      "cell_type": "markdown",
      "metadata": {
        "id": "view-in-github",
        "colab_type": "text"
      },
      "source": [
        "<a href=\"https://colab.research.google.com/github/ahmedgamal23/Tool-for-data-science-final-Assignment-Instructions-coursera/blob/main/test.ipynb\" target=\"_parent\"><img src=\"https://colab.research.google.com/assets/colab-badge.svg\" alt=\"Open In Colab\"/></a>"
      ]
    },
    {
      "cell_type": "markdown",
      "source": [
        "<center>\n",
        "    <img src=\"https://cf-courses-data.s3.us.cloud-object-storage.appdomain.cloud/IBMDeveloperSkillsNetwork-DS0105EN-SkillsNetwork/labs/Module2/images/SN_web_lightmode.png\" width=\"300\" alt=\"cognitiveclass.ai logo\">\n",
        "</center>"
      ],
      "metadata": {
        "id": "LAd2If4sDbys"
      }
    },
    {
      "cell_type": "markdown",
      "source": [
        "# Data Science Tools and Ecosystem"
      ],
      "metadata": {
        "id": "Jh7NX0ei8RPr"
      }
    },
    {
      "cell_type": "markdown",
      "source": [
        "#### In this notebook, Data Science Tools and Ecosystem are summarized."
      ],
      "metadata": {
        "id": "-BmAJdy68oui"
      }
    },
    {
      "cell_type": "markdown",
      "source": [
        "**Objectives:**\n",
        "\n",
        "\n",
        "*   popular language in data science\n",
        "*   commenly libraries\n",
        "*   data science tools\n",
        "*   some arthimatic operation\n",
        "\n"
      ],
      "metadata": {
        "id": "sN9_VXI9AtGu"
      }
    },
    {
      "cell_type": "markdown",
      "source": [
        "####Some of the popular languages that Data Scientists use are:\n",
        "\n",
        "\n",
        "1.   Python\n",
        "2.   R\n",
        "3.   Julia\n",
        "\n",
        "\n",
        "\n",
        "\n",
        "\n",
        "\n"
      ],
      "metadata": {
        "id": "e9xqDfRw83bx"
      }
    },
    {
      "cell_type": "markdown",
      "source": [
        "#### Some of the commonly used libraries used by Data Scientists include:\n",
        "ordered list:\n",
        "\n",
        "\n",
        "1.   numpy\n",
        "2.   pandas\n",
        "3.   matplotlib\n",
        "4.   sklearn\n",
        "\n"
      ],
      "metadata": {
        "id": "9TWYdCI39dz_"
      }
    },
    {
      "cell_type": "markdown",
      "source": [
        "## Data Science Tools\n",
        "---\n",
        "#### Weka\n",
        "---\n",
        "#### Scrapy\n",
        "---\n",
        "#### Spark\n",
        "---\n"
      ],
      "metadata": {
        "id": "sYOpVfhP-Mk1"
      }
    },
    {
      "cell_type": "markdown",
      "source": [
        "### Below are a few examples of evaluating arithmetic expressions in Python"
      ],
      "metadata": {
        "id": "H7oNfm9U_dYx"
      }
    },
    {
      "cell_type": "code",
      "execution_count": null,
      "metadata": {
        "colab": {
          "base_uri": "https://localhost:8080/"
        },
        "id": "19hE_d2n8KWs",
        "outputId": "cce56877-f416-4bc5-e85b-8a4eb5ad5674"
      },
      "outputs": [
        {
          "output_type": "execute_result",
          "data": {
            "text/plain": [
              "17"
            ]
          },
          "metadata": {},
          "execution_count": 1
        }
      ],
      "source": [
        "#  This a simple arithmetic expression to mutiply then add integers\n",
        "(3*4)+5\n"
      ]
    },
    {
      "cell_type": "code",
      "source": [
        "# This will convert 200 minutes to hours by diving by 60\n",
        "200/60"
      ],
      "metadata": {
        "colab": {
          "base_uri": "https://localhost:8080/"
        },
        "id": "WN2LOuH2_1Op",
        "outputId": "d8de60cd-d751-4a06-bcb6-ef48f58edd16"
      },
      "execution_count": null,
      "outputs": [
        {
          "output_type": "execute_result",
          "data": {
            "text/plain": [
              "3.3333333333333335"
            ]
          },
          "metadata": {},
          "execution_count": 2
        }
      ]
    },
    {
      "cell_type": "markdown",
      "source": [
        "## Author\n",
        "Ahmed Gamal"
      ],
      "metadata": {
        "id": "2mivPghkBWEb"
      }
    },
    {
      "cell_type": "code",
      "source": [],
      "metadata": {
        "id": "izU8RMCeAQOJ"
      },
      "execution_count": null,
      "outputs": []
    }
  ]
}